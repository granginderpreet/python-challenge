{
 "cells": [
  {
   "cell_type": "code",
   "execution_count": 63,
   "id": "2bb0fc56",
   "metadata": {},
   "outputs": [
    {
     "name": "stdout",
     "output_type": "stream",
     "text": [
      " -----------------Financial Analysis----------------\n",
      " Total Months : 86\n",
      " Total : 38382578\n",
      " Average Change : -2315.1176470588234\n",
      " Greatest increase in Profits : 1926159 during month of Feb-2012\n",
      " Greatest decrease in Profits : -2196167 during month of Sep-2013\n"
     ]
    }
   ],
   "source": [
    "import csv\n",
    "import os\n",
    "budget_csv_file = os.path.join(\".\", \"Resources\", \"budget_data.csv\")\n",
    "total_months = len (open (budget_csv_file).readlines ()) - 1 # first line is the header\n",
    "updated_budget=[]\n",
    "with open(budget_csv_file,\"r\") as budget:\n",
    "    budget_file_contents = csv.reader(budget, delimiter=',')\n",
    "    budget_file_header = next(budget_file_contents)\n",
    "    #total_months=len(budget_file_contents)\n",
    "    print(f' -----------------Financial Analysis----------------')\n",
    "    totalProfitLoss=0\n",
    "    prevProfitLoss=0xffffffff\n",
    "    maxPlusChange=0\n",
    "    averageChangeInProfitLoss=0\n",
    "    maxMinusChange=0\n",
    "    \n",
    "    for row in budget_file_contents:\n",
    "        \n",
    "        totalProfitLoss += int(row[1])\n",
    "        if (prevProfitLoss == 0xffffffff):\n",
    "            row.append(\"0\")\n",
    "        else:\n",
    "            row.append(str(int(row[1])-int(prevProfitLoss)))\n",
    "        prevProfitLoss= int(row[1])\n",
    "        \n",
    "        if (int(row[2]) > maxPlusChange):\n",
    "                maxPlusChange=int(row[2])\n",
    "        elif (int(row[2]) < maxMinusChange):\n",
    "                maxMinusChange=int(row[2])\n",
    "        \n",
    "        averageChangeInProfitLoss += int(row[2])\n",
    "        updated_budget.append(row[0])\n",
    "        updated_budget.append(row[2])\n",
    "    #print(updated_budget)\n",
    "    averageChangeInProfitLoss=averageChangeInProfitLoss/(total_months-1)  #because first month is ignored for increase/decrease \n",
    "    maxincreasemonth=updated_budget[updated_budget.index(str(maxPlusChange))-1] # to get to the month\n",
    "    maxdecreasemonth=updated_budget[updated_budget.index(str(maxMinusChange))-1] # to get to the month\n",
    "    print(f' Total Months : {total_months}')\n",
    "    print(f' Total : {totalProfitLoss}')\n",
    "    print(f' Average Change : {averageChangeInProfitLoss}')\n",
    "    print(f' Greatest increase in Profits : {maxPlusChange} during month of {maxincreasemonth}')\n",
    "    print(f' Greatest decrease in Profits : {maxMinusChange} during month of {maxdecreasemonth}')\n",
    "    "
   ]
  },
  {
   "cell_type": "code",
   "execution_count": null,
   "id": "cd27c563",
   "metadata": {},
   "outputs": [],
   "source": []
  },
  {
   "cell_type": "code",
   "execution_count": null,
   "id": "889a1717",
   "metadata": {},
   "outputs": [],
   "source": []
  }
 ],
 "metadata": {
  "kernelspec": {
   "display_name": "Python 3",
   "language": "python",
   "name": "python3"
  },
  "language_info": {
   "codemirror_mode": {
    "name": "ipython",
    "version": 3
   },
   "file_extension": ".py",
   "mimetype": "text/x-python",
   "name": "python",
   "nbconvert_exporter": "python",
   "pygments_lexer": "ipython3",
   "version": "3.8.8"
  }
 },
 "nbformat": 4,
 "nbformat_minor": 5
}
