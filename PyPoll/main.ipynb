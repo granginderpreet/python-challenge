{
 "cells": [
  {
   "cell_type": "code",
   "execution_count": 98,
   "id": "a0e23ca7",
   "metadata": {
    "scrolled": true
   },
   "outputs": [
    {
     "name": "stdout",
     "output_type": "stream",
     "text": [
      " -----------------Election Results----------------\n",
      "Election Results\n",
      "-----------------\n",
      "Total Votes : 3521001\n",
      "-----------------\n",
      "Name Count Percentage\n",
      "Khan 2218231 63.0\n",
      "Correy 704200 20.0\n",
      "Li 492940 14.0\n",
      "O'Tooley 105630 3.0\n",
      "The winner is Khan\n"
     ]
    }
   ],
   "source": [
    "import csv\n",
    "import os\n",
    "election_data_file = os.path.join(\".\", \"Resources\", \"election_data.csv\")\n",
    "total_voters = len (open (election_data_file).readlines ()) - 1 # first line is the header\n",
    "summary={}\n",
    "summary1={}\n",
    "with open(election_data_file,\"r\") as election:\n",
    "    electionData = csv.reader(election, delimiter=',')\n",
    "    electionDataHeader = next(electionData)\n",
    "    #total_months=len(budget_file_contents)\n",
    "    print(f' -----------------Election Results----------------')\n",
    "       \n",
    "    for row in electionData:\n",
    "        if not row[2] in summary:\n",
    "            summary[row[2]] = 1\n",
    "        else:\n",
    "            summary[row[2]] += 1 \n",
    "    maxvotes=0.0\n",
    "    output_path = os.path.join(\".\", \"\", \"Results.csv\")\n",
    "\n",
    "# Open the file using \"write\" mode. Specify the variable to hold the contents\n",
    "with open(output_path, 'w') as csvfile:\n",
    "\n",
    "    # Initialize csv.writer\n",
    "    csvwriter = csv.writer(csvfile,delimiter=',',lineterminator='\\r')  # lineterminator removed extra space between rows \n",
    "\n",
    "    # Write the first row (column headers)\n",
    "    csvwriter.writerow('Election Results')\n",
    "    csvwriter.writerow(\"-----------------\")\n",
    "    csvwriter.writerow(['Name','Count','Percentage'])\n",
    "\n",
    "    print(\"Election Results\")\n",
    "    print(\"-----------------\")\n",
    "    print(f\"Total Votes : {total_voters}\")\n",
    "    print(\"-----------------\")\n",
    "    print(\"Name Count Percentage\")\n",
    "    for j, k in summary.items():\n",
    "        k1 = [k, str(round(100*float(k)/float(total_voters),2))]\n",
    "        summary1[j]=k1\n",
    "        print(f\"{j} {k1[0]} {k1[1]}\")\n",
    "        csvwriter.writerow([j,k1[0], k1[1]])\n",
    "        \n",
    "    max_key= max(summary1, key=summary1.get)\n",
    "    print(f\"The winner is {max_key}\")        \n",
    "    csvwriter.writerow([\"The winner is\", max_key])"
   ]
  },
  {
   "cell_type": "code",
   "execution_count": null,
   "id": "79add8ad",
   "metadata": {},
   "outputs": [],
   "source": []
  }
 ],
 "metadata": {
  "kernelspec": {
   "display_name": "Python 3",
   "language": "python",
   "name": "python3"
  },
  "language_info": {
   "codemirror_mode": {
    "name": "ipython",
    "version": 3
   },
   "file_extension": ".py",
   "mimetype": "text/x-python",
   "name": "python",
   "nbconvert_exporter": "python",
   "pygments_lexer": "ipython3",
   "version": "3.8.8"
  }
 },
 "nbformat": 4,
 "nbformat_minor": 5
}
